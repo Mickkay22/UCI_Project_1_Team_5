{
 "cells": [
  {
   "cell_type": "code",
   "execution_count": 1,
   "metadata": {},
   "outputs": [],
   "source": [
    "import csv\n",
    "import pandas as pd\n",
    "import numpy as np\n",
    "import matplotlib.pyplot as plt\n"
   ]
  },
  {
   "cell_type": "code",
   "execution_count": 2,
   "metadata": {},
   "outputs": [],
   "source": [
    "results_2012 = pd.read_excel (r'2012 Results.xlsx')\n",
    "\n",
    "pd.options.display.float_format = '{:,.2f}'.format\n",
    "\n",
    "results_2012.drop(results_2012.columns[[1,4,5,6,7]],axis = 1, inplace = True)\n",
    "results_2012\n",
    "\n",
    "results_2012.set_index('State')\n",
    "\n",
    "#Strip % sign from numbers\n",
    "results_2012['Obama'] = [results_2012['Obama'] [i].strip('%') for i in range(len(results_2012[\"Obama\"]))]\n",
    "results_2012['Romney'] = [results_2012['Romney'] [i].strip('%') for i in range(len(results_2012[\"Romney\"]))]\n",
    "\n",
    "# #Change objects to floats\n",
    "\n",
    "results_2012['Obama'] = results_2012.Obama.astype(float)\n",
    "results_2012['Romney'] = results_2012.Romney.astype(float)\n"
   ]
  },
  {
   "cell_type": "code",
   "execution_count": 3,
   "metadata": {},
   "outputs": [
    {
     "data": {
      "image/png": "[encoded data removed]",
      "text/plain": [
       "<Figure size 432x288 with 1 Axes>"
      ]
     },
     "metadata": {},
     "output_type": "display_data"
    }
   ],
   "source": [
    "boxplot = results_2012.boxplot(column=['Obama', 'Romney'])\n"
   ]
  },
  {
   "cell_type": "code",
   "execution_count": 4,
   "metadata": {},
   "outputs": [
    {
     "data": {
      "text/html": [
       "<div>\n",
       "<style scoped>\n",
       "    .dataframe tbody tr th:only-of-type {\n",
       "        vertical-align: middle;\n",
       "    }\n",
       "\n",
       "    .dataframe tbody tr th {\n",
       "        vertical-align: top;\n",
       "    }\n",
       "\n",
       "    .dataframe thead th {\n",
       "        text-align: right;\n",
       "    }\n",
       "</style>\n",
       "<table border=\"1\" class=\"dataframe\">\n",
       "  <thead>\n",
       "    <tr style=\"text-align: right;\">\n",
       "      <th></th>\n",
       "      <th>Clinton</th>\n",
       "      <th>Trump</th>\n",
       "    </tr>\n",
       "    <tr>\n",
       "      <th>State</th>\n",
       "      <th></th>\n",
       "      <th></th>\n",
       "    </tr>\n",
       "  </thead>\n",
       "  <tbody>\n",
       "    <tr>\n",
       "      <td>Alabama</td>\n",
       "      <td>34.36</td>\n",
       "      <td>62.08</td>\n",
       "    </tr>\n",
       "    <tr>\n",
       "      <td>Alaska</td>\n",
       "      <td>36.55</td>\n",
       "      <td>51.28</td>\n",
       "    </tr>\n",
       "    <tr>\n",
       "      <td>Arizona</td>\n",
       "      <td>44.58</td>\n",
       "      <td>48.08</td>\n",
       "    </tr>\n",
       "    <tr>\n",
       "      <td>Arkansas</td>\n",
       "      <td>33.65</td>\n",
       "      <td>60.57</td>\n",
       "    </tr>\n",
       "    <tr>\n",
       "      <td>California</td>\n",
       "      <td>61.48</td>\n",
       "      <td>31.49</td>\n",
       "    </tr>\n",
       "  </tbody>\n",
       "</table>\n",
       "</div>"
      ],
      "text/plain": [
       "            Clinton  Trump\n",
       "State                     \n",
       "Alabama       34.36  62.08\n",
       "Alaska        36.55  51.28\n",
       "Arizona       44.58  48.08\n",
       "Arkansas      33.65  60.57\n",
       "California    61.48  31.49"
      ]
     },
     "execution_count": 4,
     "metadata": {},
     "output_type": "execute_result"
    }
   ],
   "source": [
    "results_2016 = pd.read_excel (r'2016 Results.xlsx')\n",
    "\n",
    "\n",
    "\n",
    "results_2016.drop(results_2016.columns[[1,4,5]],axis = 1, inplace = True)\n",
    "results_2016\n",
    "\n",
    "results_2016.set_index('State')\n",
    "\n",
    "#Strip % sign from numbers\n",
    "results_2016['Clinton'] = [results_2016['Clinton'] [i].strip('%') for i in range(len(results_2016[\"Clinton\"]))]\n",
    "results_2016['Trump'] = [results_2016['Trump'] [i].strip('%') for i in range(len(results_2016[\"Trump\"]))]\n",
    "\n",
    "#Change objects to floats\n",
    "\n",
    "results_2016['Clinton'] = results_2016.Clinton.astype(float)\n",
    "results_2016['Trump'] = results_2016.Trump.astype(float)\n",
    "\n",
    "results_2016.set_index('State').head()"
   ]
  },
  {
   "cell_type": "code",
   "execution_count": 5,
   "metadata": {},
   "outputs": [
    {
     "data": {
      "image/png": "[encoded data removed]",
      "text/plain": [
       "<Figure size 432x288 with 1 Axes>"
      ]
     },
     "metadata": {},
     "output_type": "display_data"
    }
   ],
   "source": [
    "boxplot = results_2016.boxplot(column=['Clinton', 'Trump'])"
   ]
  },
  {
   "cell_type": "code",
   "execution_count": 6,
   "metadata": {},
   "outputs": [
    {
     "data": {
      "text/html": [
       "<div>\n",
       "<style scoped>\n",
       "    .dataframe tbody tr th:only-of-type {\n",
       "        vertical-align: middle;\n",
       "    }\n",
       "\n",
       "    .dataframe tbody tr th {\n",
       "        vertical-align: top;\n",
       "    }\n",
       "\n",
       "    .dataframe thead th {\n",
       "        text-align: right;\n",
       "    }\n",
       "</style>\n",
       "<table border=\"1\" class=\"dataframe\">\n",
       "  <thead>\n",
       "    <tr style=\"text-align: right;\">\n",
       "      <th></th>\n",
       "      <th>Clinton</th>\n",
       "      <th>Trump</th>\n",
       "    </tr>\n",
       "    <tr>\n",
       "      <th>State</th>\n",
       "      <th></th>\n",
       "      <th></th>\n",
       "    </tr>\n",
       "  </thead>\n",
       "  <tbody>\n",
       "    <tr>\n",
       "      <td>Alabama</td>\n",
       "      <td>34.36</td>\n",
       "      <td>62.08</td>\n",
       "    </tr>\n",
       "    <tr>\n",
       "      <td>Alaska</td>\n",
       "      <td>36.55</td>\n",
       "      <td>51.28</td>\n",
       "    </tr>\n",
       "    <tr>\n",
       "      <td>Arizona</td>\n",
       "      <td>44.58</td>\n",
       "      <td>48.08</td>\n",
       "    </tr>\n",
       "    <tr>\n",
       "      <td>Arkansas</td>\n",
       "      <td>33.65</td>\n",
       "      <td>60.57</td>\n",
       "    </tr>\n",
       "    <tr>\n",
       "      <td>California</td>\n",
       "      <td>61.48</td>\n",
       "      <td>31.49</td>\n",
       "    </tr>\n",
       "  </tbody>\n",
       "</table>\n",
       "</div>"
      ],
      "text/plain": [
       "            Clinton  Trump\n",
       "State                     \n",
       "Alabama       34.36  62.08\n",
       "Alaska        36.55  51.28\n",
       "Arizona       44.58  48.08\n",
       "Arkansas      33.65  60.57\n",
       "California    61.48  31.49"
      ]
     },
     "execution_count": 6,
     "metadata": {},
     "output_type": "execute_result"
    }
   ],
   "source": [
    "\n",
    "\n",
    "results_2012_2016= pd.merge(results_2012, results_2016, on='State')\n",
    "\n",
    "results_2012_2016\n",
    "\n",
    "results_2016.set_index('State').head()\n",
    "\n"
   ]
  },
  {
   "cell_type": "code",
   "execution_count": 7,
   "metadata": {},
   "outputs": [
    {
     "data": {
      "image/png": "[encoded data removed]",
      "text/plain": [
       "<Figure size 432x288 with 1 Axes>"
      ]
     },
     "metadata": {},
     "output_type": "display_data"
    }
   ],
   "source": [
    "boxplot = results_2012_2016.boxplot(column=['Obama', 'Clinton'])"
   ]
  },
  {
   "cell_type": "code",
   "execution_count": 8,
   "metadata": {},
   "outputs": [
    {
     "data": {
      "text/plain": [
       "State\n",
       "Alabama                0.0101\n",
       "Alaska                 0.0103\n",
       "Arizona                0.0095\n",
       "Arkansas               0.0096\n",
       "California             0.0100\n",
       "Colorado               0.0094\n",
       "Connecticut            0.0094\n",
       "Delaware               0.0087\n",
       "District of Columbia   0.0113\n",
       "Florida                0.0098\n",
       "Georgia                0.0103\n",
       "Hawaii                 0.0092\n",
       "Idaho                  0.0097\n",
       "Illinois               0.0096\n",
       "Indiana                0.0098\n",
       "Iowa                   0.0102\n",
       "Kansas                 0.0105\n",
       "Kentucky               0.0095\n",
       "Louisiana              0.0089\n",
       "Maine                  0.0097\n",
       "Maryland               0.0104\n",
       "Massachusetts          0.0099\n",
       "Michigan               0.0101\n",
       "Minnesota              0.0106\n",
       "Mississippi            0.0092\n",
       "Missouri               0.0101\n",
       "Montana                0.0106\n",
       "Nebraska               0.0095\n",
       "Nevada                 0.0090\n",
       "New Hampshire          0.0099\n",
       "New Jersey             0.0100\n",
       "New Mexico             0.0095\n",
       "New York               0.0091\n",
       "North Carolina         0.0091\n",
       "North Dakota           0.0101\n",
       "Ohio                   0.0093\n",
       "Oklahoma               0.0101\n",
       "Oregon                 0.0098\n",
       "Pennsylvania           0.0101\n",
       "Rhode Island           0.0105\n",
       "South Carolina         0.0103\n",
       "South Dakota           0.0102\n",
       "Tennessee              0.0101\n",
       "Texas                  0.0103\n",
       "Utah                   0.0098\n",
       "Vermont                0.0099\n",
       "Virginia               0.0101\n",
       "Washington             0.0103\n",
       "West Virginia          0.0100\n",
       "Wisconsin              0.0099\n",
       "Wyoming                0.0103\n",
       "dtype: float64"
      ]
     },
     "execution_count": 8,
     "metadata": {},
     "output_type": "execute_result"
    }
   ],
   "source": [
    "pd.options.display.float_format = '{:,.4f}'.format\n",
    "median_home_prices = pd.read_excel (r'Median Income by Years.xlsx')\n",
    "median_home_prices\n",
    "median_home_prices.head()\n",
    "\n",
    "median_home_prices.set_index('State')\n",
    "\n",
    "\n",
    "\n",
    "\n",
    "\n",
    "median_home_prices_2009_2012= median_home_prices.drop([2016, 2015,2014,2013], axis=1)\n",
    "median_home_prices_2009_2012_new = median_home_prices_2009_2012.set_index('State')\n",
    "\n",
    "median_home_prices_2009_2011 = median_home_prices_2009_2012_new[median_home_prices_2009_2012_new.columns[1:5]]\n",
    "median_home_prices_2009_2011\n",
    "\n",
    "median_home_prices_2009_2011['09_11_average'] = median_home_prices_2009_2011.mean(axis=1)\n",
    "median_home_prices_2009_2011\n",
    "\n",
    "home_prices_change_2012_vs_3yr_average = median_home_prices_2009_2012_new[2012]/median_home_prices_2009_2011['09_11_average']/100\n",
    "\n",
    "home_prices_change_2012_vs_3yr_average\n",
    "\n",
    "\n"
   ]
  },
  {
   "cell_type": "code",
   "execution_count": 9,
   "metadata": {},
   "outputs": [
    {
     "data": {
      "text/plain": [
       "State\n",
       "Alabama                0.0104\n",
       "Alaska                 0.0104\n",
       "Arizona                0.0109\n",
       "Arkansas               0.0106\n",
       "California             0.0106\n",
       "Colorado               0.0106\n",
       "Connecticut            0.0105\n",
       "Delaware               0.0101\n",
       "District of Columbia   0.0105\n",
       "Florida                0.0105\n",
       "Georgia                0.0107\n",
       "Hawaii                 0.0106\n",
       "Idaho                  0.0108\n",
       "Illinois               0.0107\n",
       "Indiana                0.0110\n",
       "Iowa                   0.0097\n",
       "Kansas                 0.0107\n",
       "Kentucky               0.0103\n",
       "Louisiana              0.0092\n",
       "Maine                  0.0095\n",
       "Maryland               0.0099\n",
       "Massachusetts          0.0110\n",
       "Michigan               0.0103\n",
       "Minnesota              0.0103\n",
       "Mississippi            0.0112\n",
       "Missouri               0.0100\n",
       "Montana                0.0115\n",
       "Nebraska               0.0100\n",
       "Nevada                 0.0106\n",
       "New Hampshire          0.0103\n",
       "New Jersey             0.0102\n",
       "New Mexico             0.0108\n",
       "New York               0.0111\n",
       "North Carolina         0.0110\n",
       "North Dakota           0.0100\n",
       "Ohio                   0.0103\n",
       "Oklahoma               0.0107\n",
       "Oregon                 0.0103\n",
       "Pennsylvania           0.0105\n",
       "Rhode Island           0.0106\n",
       "South Carolina         0.0119\n",
       "South Dakota           0.0105\n",
       "Tennessee              0.0112\n",
       "Texas                  0.0106\n",
       "Utah                   0.0104\n",
       "Vermont                0.0096\n",
       "Virginia               0.0101\n",
       "Washington             0.0109\n",
       "West Virginia          0.0104\n",
       "Wisconsin              0.0107\n",
       "Wyoming                0.0092\n",
       "dtype: float64"
      ]
     },
     "execution_count": 9,
     "metadata": {},
     "output_type": "execute_result"
    }
   ],
   "source": [
    "median_home_prices_2013_2016= median_home_prices[median_home_prices.columns[0:5]] \n",
    "\n",
    "median_home_prices_2013_2016_new = median_home_prices_2013_2016.set_index('State')\n",
    "median_home_prices_2013_2015 = median_home_prices_2013_2016_new[median_home_prices_2013_2016_new.columns[1:5]]\n",
    "median_home_prices_2013_2015\n",
    "\n",
    "median_home_prices_2013_2015['13_15_average'] = median_home_prices_2013_2015.mean(axis=1)\n",
    "median_home_prices_2013_2015\n",
    "\n",
    "home_prices_change_2016_vs_3yr_average = median_home_prices_2013_2016_new[2016]/median_home_prices_2013_2015['13_15_average']/100\n",
    "home_prices_change_2016_vs_3yr_average \n",
    "\n"
   ]
  },
  {
   "cell_type": "code",
   "execution_count": 10,
   "metadata": {},
   "outputs": [
    {
     "data": {
      "text/html": [
       "<div>\n",
       "<style scoped>\n",
       "    .dataframe tbody tr th:only-of-type {\n",
       "        vertical-align: middle;\n",
       "    }\n",
       "\n",
       "    .dataframe tbody tr th {\n",
       "        vertical-align: top;\n",
       "    }\n",
       "\n",
       "    .dataframe thead th {\n",
       "        text-align: right;\n",
       "    }\n",
       "</style>\n",
       "<table border=\"1\" class=\"dataframe\">\n",
       "  <thead>\n",
       "    <tr style=\"text-align: right;\">\n",
       "      <th></th>\n",
       "      <th>State</th>\n",
       "      <th>2009</th>\n",
       "      <th>2010</th>\n",
       "      <th>2011</th>\n",
       "      <th>2012</th>\n",
       "      <th>2013</th>\n",
       "      <th>2014</th>\n",
       "      <th>2015</th>\n",
       "      <th>2016</th>\n",
       "      <th>2017</th>\n",
       "      <th>2018</th>\n",
       "    </tr>\n",
       "  </thead>\n",
       "  <tbody>\n",
       "    <tr>\n",
       "      <td>0</td>\n",
       "      <td>Alabama</td>\n",
       "      <td>1,905.0000</td>\n",
       "      <td>1,890.1000</td>\n",
       "      <td>1,890.0000</td>\n",
       "      <td>1,905.7000</td>\n",
       "      <td>1,924.0000</td>\n",
       "      <td>1,944.2000</td>\n",
       "      <td>1,971.2000</td>\n",
       "      <td>1,997.0000</td>\n",
       "      <td>2,018.7000</td>\n",
       "      <td>2,042.0000</td>\n",
       "    </tr>\n",
       "    <tr>\n",
       "      <td>1</td>\n",
       "      <td>Alaska</td>\n",
       "      <td>320.9000</td>\n",
       "      <td>325.0000</td>\n",
       "      <td>330.2000</td>\n",
       "      <td>335.2000</td>\n",
       "      <td>336.5000</td>\n",
       "      <td>338.1000</td>\n",
       "      <td>339.1000</td>\n",
       "      <td>333.5000</td>\n",
       "      <td>329.2000</td>\n",
       "      <td>327.3000</td>\n",
       "    </tr>\n",
       "    <tr>\n",
       "      <td>2</td>\n",
       "      <td>Arizona</td>\n",
       "      <td>2,432.6000</td>\n",
       "      <td>2,386.1000</td>\n",
       "      <td>2,411.4000</td>\n",
       "      <td>2,462.4000</td>\n",
       "      <td>2,520.0000</td>\n",
       "      <td>2,570.3000</td>\n",
       "      <td>2,636.4000</td>\n",
       "      <td>2,708.8000</td>\n",
       "      <td>2,777.3000</td>\n",
       "      <td>2,856.0000</td>\n",
       "    </tr>\n",
       "    <tr>\n",
       "      <td>3</td>\n",
       "      <td>Arkansas</td>\n",
       "      <td>1,164.6000</td>\n",
       "      <td>1,162.9000</td>\n",
       "      <td>1,169.5000</td>\n",
       "      <td>1,177.1000</td>\n",
       "      <td>1,177.6000</td>\n",
       "      <td>1,190.0000</td>\n",
       "      <td>1,213.2000</td>\n",
       "      <td>1,233.0000</td>\n",
       "      <td>1,248.7000</td>\n",
       "      <td>1,261.9000</td>\n",
       "    </tr>\n",
       "    <tr>\n",
       "      <td>4</td>\n",
       "      <td>California</td>\n",
       "      <td>14,439.1000</td>\n",
       "      <td>14,283.3000</td>\n",
       "      <td>14,434.7000</td>\n",
       "      <td>14,761.9000</td>\n",
       "      <td>15,151.3000</td>\n",
       "      <td>15,576.1000</td>\n",
       "      <td>16,052.4000</td>\n",
       "      <td>16,480.7000</td>\n",
       "      <td>16,836.7000</td>\n",
       "      <td>17,175.2000</td>\n",
       "    </tr>\n",
       "  </tbody>\n",
       "</table>\n",
       "</div>"
      ],
      "text/plain": [
       "        State        2009        2010        2011        2012        2013  \\\n",
       "0     Alabama  1,905.0000  1,890.1000  1,890.0000  1,905.7000  1,924.0000   \n",
       "1      Alaska    320.9000    325.0000    330.2000    335.2000    336.5000   \n",
       "2     Arizona  2,432.6000  2,386.1000  2,411.4000  2,462.4000  2,520.0000   \n",
       "3    Arkansas  1,164.6000  1,162.9000  1,169.5000  1,177.1000  1,177.6000   \n",
       "4  California 14,439.1000 14,283.3000 14,434.7000 14,761.9000 15,151.3000   \n",
       "\n",
       "         2014        2015        2016        2017        2018  \n",
       "0  1,944.2000  1,971.2000  1,997.0000  2,018.7000  2,042.0000  \n",
       "1    338.1000    339.1000    333.5000    329.2000    327.3000  \n",
       "2  2,570.3000  2,636.4000  2,708.8000  2,777.3000  2,856.0000  \n",
       "3  1,190.0000  1,213.2000  1,233.0000  1,248.7000  1,261.9000  \n",
       "4 15,576.1000 16,052.4000 16,480.7000 16,836.7000 17,175.2000  "
      ]
     },
     "execution_count": 10,
     "metadata": {},
     "output_type": "execute_result"
    }
   ],
   "source": [
    "total_nonfarm_by_state = pd.read_excel (r'Total_Nonfarm_by_State.xlsx')\n",
    "total_nonfarm_by_state.head()"
   ]
  },
  {
   "cell_type": "code",
   "execution_count": 11,
   "metadata": {},
   "outputs": [
    {
     "data": {
      "text/plain": [
       "State\n",
       "Alabama                0.0103\n",
       "Alaska                 0.0099\n",
       "Arizona                0.0105\n",
       "Arkansas               0.0103\n",
       "California             0.0106\n",
       "Colorado               0.0106\n",
       "Connecticut            0.0101\n",
       "Delaware               0.0103\n",
       "District of Columbia   0.0103\n",
       "Florida                0.0107\n",
       "Georgia                0.0105\n",
       "Hawaii                 0.0103\n",
       "Idaho                  0.0106\n",
       "Illinois               0.0102\n",
       "Indiana                0.0103\n",
       "Iowa                   0.0102\n",
       "Kansas                 0.0101\n",
       "Kentucky               0.0103\n",
       "Louisiana              0.0100\n",
       "Maine                  0.0102\n",
       "Maryland               0.0103\n",
       "Massachusetts          0.0104\n",
       "Michigan               0.0103\n",
       "Minnesota              0.0103\n",
       "Mississippi            0.0102\n",
       "Missouri               0.0103\n",
       "Montana                0.0103\n",
       "Nebraska               0.0102\n",
       "Nevada                 0.0107\n",
       "New Hampshire          0.0103\n",
       "New Jersey             0.0103\n",
       "New Mexico             0.0101\n",
       "New York               0.0103\n",
       "North Carolina         0.0105\n",
       "North Dakota           0.0096\n",
       "Ohio                   0.0103\n",
       "Oklahoma               0.0100\n",
       "Oregon                 0.0106\n",
       "Pennsylvania           0.0102\n",
       "Rhode Island           0.0102\n",
       "South Carolina         0.0105\n",
       "South Dakota           0.0102\n",
       "Tennessee              0.0105\n",
       "Texas                  0.0104\n",
       "Utah                   0.0107\n",
       "Vermont                0.0101\n",
       "Virginia               0.0103\n",
       "Washington             0.0106\n",
       "West Virginia          0.0098\n",
       "Wisconsin              0.0103\n",
       "Wyoming                0.0096\n",
       "dtype: float64"
      ]
     },
     "execution_count": 11,
     "metadata": {},
     "output_type": "execute_result"
    }
   ],
   "source": [
    "pd.options.display.float_format = '{:,.4f}'.format\n",
    "\n",
    "\n",
    "\n",
    "total_nonfarm_by_state_2009_2012= total_nonfarm_by_state.drop([\"2013\",\"2014\",\"2015\",\"2016\",\"2017\",\"2018\"], axis =1) \n",
    "total_nonfarm_by_state_2009_2012= total_nonfarm_by_state_2009_2012.set_index(\"State\")\n",
    "total_nonfarm_by_state_2009_2012\n",
    "\n",
    "total_nonfarm_by_state_2009_2011=total_nonfarm_by_state_2009_2012.drop([\"2012\"], axis =1) \n",
    "total_nonfarm_by_state_2009_2011\n",
    "\n",
    "total_nonfarm_by_state_2009_2011['09_11_average'] = total_nonfarm_by_state_2009_2011.mean(axis=1)\n",
    "total_nonfarm_by_state_2009_2011\n",
    "\n",
    "total_nonfarm_by_state_2012_vs_3yr_average = total_nonfarm_by_state_2009_2012[\"2012\"]/total_nonfarm_by_state_2009_2011['09_11_average']/100\n",
    "total_nonfarm_by_state_2012_vs_3yr_average \n",
    "\n",
    "\n",
    "total_nonfarm_by_state_2013_2016= total_nonfarm_by_state.drop([\"2009\",\"2010\",\"2011\",\"2012\",\"2017\",\"2018\"], axis =1) \n",
    "total_nonfarm_by_state_2013_2016= total_nonfarm_by_state_2013_2016.set_index(\"State\")\n",
    "total_nonfarm_by_state_2013_2016\n",
    "\n",
    "total_nonfarm_by_state_2013_2015=total_nonfarm_by_state_2013_2016.drop([\"2016\"], axis =1) \n",
    "total_nonfarm_by_state_2013_2015\n",
    "\n",
    "total_nonfarm_by_state_2013_2015['13_15_average'] = total_nonfarm_by_state_2013_2015.mean(axis=1)\n",
    "total_nonfarm_by_state_2013_2015\n",
    "\n",
    "total_nonfarm_by_state_2016_vs_3yr_average = total_nonfarm_by_state_2013_2016[\"2016\"]/total_nonfarm_by_state_2013_2015['13_15_average']/100\n",
    "total_nonfarm_by_state_2016_vs_3yr_average "
   ]
  },
  {
   "cell_type": "code",
   "execution_count": 12,
   "metadata": {},
   "outputs": [
    {
     "data": {
      "text/html": [
       "<div>\n",
       "<style scoped>\n",
       "    .dataframe tbody tr th:only-of-type {\n",
       "        vertical-align: middle;\n",
       "    }\n",
       "\n",
       "    .dataframe tbody tr th {\n",
       "        vertical-align: top;\n",
       "    }\n",
       "\n",
       "    .dataframe thead th {\n",
       "        text-align: right;\n",
       "    }\n",
       "</style>\n",
       "<table border=\"1\" class=\"dataframe\">\n",
       "  <thead>\n",
       "    <tr style=\"text-align: right;\">\n",
       "      <th></th>\n",
       "      <th>State</th>\n",
       "      <th>2016</th>\n",
       "      <th>2015</th>\n",
       "      <th>2014</th>\n",
       "      <th>2013</th>\n",
       "      <th>2012</th>\n",
       "      <th>2011</th>\n",
       "      <th>2010</th>\n",
       "      <th>2009</th>\n",
       "    </tr>\n",
       "  </thead>\n",
       "  <tbody>\n",
       "    <tr>\n",
       "      <td>0</td>\n",
       "      <td>Alabama</td>\n",
       "      <td>5.8000</td>\n",
       "      <td>6.1000</td>\n",
       "      <td>6.8000</td>\n",
       "      <td>7.2000</td>\n",
       "      <td>8.0000</td>\n",
       "      <td>9.6000</td>\n",
       "      <td>10.5000</td>\n",
       "      <td>11.0000</td>\n",
       "    </tr>\n",
       "    <tr>\n",
       "      <td>1</td>\n",
       "      <td>Alaska</td>\n",
       "      <td>6.9000</td>\n",
       "      <td>6.5000</td>\n",
       "      <td>6.9000</td>\n",
       "      <td>7.0000</td>\n",
       "      <td>7.1000</td>\n",
       "      <td>7.6000</td>\n",
       "      <td>7.9000</td>\n",
       "      <td>7.7000</td>\n",
       "    </tr>\n",
       "    <tr>\n",
       "      <td>2</td>\n",
       "      <td>Arizona</td>\n",
       "      <td>5.4000</td>\n",
       "      <td>6.1000</td>\n",
       "      <td>6.8000</td>\n",
       "      <td>7.7000</td>\n",
       "      <td>8.3000</td>\n",
       "      <td>9.5000</td>\n",
       "      <td>10.4000</td>\n",
       "      <td>9.9000</td>\n",
       "    </tr>\n",
       "    <tr>\n",
       "      <td>3</td>\n",
       "      <td>Arkansas</td>\n",
       "      <td>4.0000</td>\n",
       "      <td>5.0000</td>\n",
       "      <td>6.0000</td>\n",
       "      <td>7.2000</td>\n",
       "      <td>7.6000</td>\n",
       "      <td>8.3000</td>\n",
       "      <td>8.2000</td>\n",
       "      <td>7.8000</td>\n",
       "    </tr>\n",
       "    <tr>\n",
       "      <td>4</td>\n",
       "      <td>California</td>\n",
       "      <td>5.5000</td>\n",
       "      <td>6.2000</td>\n",
       "      <td>7.5000</td>\n",
       "      <td>8.9000</td>\n",
       "      <td>10.4000</td>\n",
       "      <td>11.7000</td>\n",
       "      <td>12.2000</td>\n",
       "      <td>11.2000</td>\n",
       "    </tr>\n",
       "  </tbody>\n",
       "</table>\n",
       "</div>"
      ],
      "text/plain": [
       "        State   2016   2015   2014   2013    2012    2011    2010    2009\n",
       "0     Alabama 5.8000 6.1000 6.8000 7.2000  8.0000  9.6000 10.5000 11.0000\n",
       "1      Alaska 6.9000 6.5000 6.9000 7.0000  7.1000  7.6000  7.9000  7.7000\n",
       "2     Arizona 5.4000 6.1000 6.8000 7.7000  8.3000  9.5000 10.4000  9.9000\n",
       "3    Arkansas 4.0000 5.0000 6.0000 7.2000  7.6000  8.3000  8.2000  7.8000\n",
       "4  California 5.5000 6.2000 7.5000 8.9000 10.4000 11.7000 12.2000 11.2000"
      ]
     },
     "execution_count": 12,
     "metadata": {},
     "output_type": "execute_result"
    }
   ],
   "source": [
    "avg_unemployment_rate = pd.read_excel (r'unemployment rate average by states.xlsx')\n",
    "avg_unemployment_rate.head()"
   ]
  },
  {
   "cell_type": "code",
   "execution_count": 13,
   "metadata": {},
   "outputs": [
    {
     "data": {
      "text/plain": [
       "State\n",
       "Alabama                0.0087\n",
       "Alaska                 0.0101\n",
       "Arizona                0.0079\n",
       "Arkansas               0.0066\n",
       "California             0.0073\n",
       "Colorado               0.0061\n",
       "Connecticut            0.0076\n",
       "Delaware               0.0078\n",
       "District of Columbia   0.0079\n",
       "Florida                0.0076\n",
       "Georgia                0.0076\n",
       "Hawaii                 0.0070\n",
       "Idaho                  0.0075\n",
       "Illinois               0.0079\n",
       "Indiana                0.0071\n",
       "Iowa                   0.0085\n",
       "Kansas                 0.0086\n",
       "Kentucky               0.0077\n",
       "Louisiana              0.0094\n",
       "Maine                  0.0069\n",
       "Maryland               0.0077\n",
       "Massachusetts          0.0068\n",
       "Michigan               0.0070\n",
       "Minnesota              0.0091\n",
       "Mississippi            0.0078\n",
       "Missouri               0.0078\n",
       "Montana                0.0086\n",
       "Nebraska               0.0092\n",
       "Nevada                 0.0070\n",
       "New Hampshire          0.0068\n",
       "New Jersey             0.0072\n",
       "New Mexico             0.0099\n",
       "New York               0.0076\n",
       "North Carolina         0.0076\n",
       "North Dakota           0.0111\n",
       "Ohio                   0.0082\n",
       "Oklahoma               0.0101\n",
       "Oregon                 0.0071\n",
       "Pennsylvania           0.0087\n",
       "Rhode Island           0.0068\n",
       "South Carolina         0.0075\n",
       "South Dakota           0.0087\n",
       "Tennessee              0.0070\n",
       "Texas                  0.0087\n",
       "Utah                   0.0085\n",
       "Vermont                0.0081\n",
       "Virginia               0.0080\n",
       "Washington             0.0085\n",
       "West Virginia          0.0091\n",
       "Wisconsin              0.0072\n",
       "Wyoming                0.0121\n",
       "dtype: float64"
      ]
     },
     "execution_count": 13,
     "metadata": {},
     "output_type": "execute_result"
    }
   ],
   "source": [
    "pd.options.display.float_format = '{:,.4f}'.format\n",
    "\n",
    "\n",
    "\n",
    "avg_unemployment_rate_2009_2012= avg_unemployment_rate.drop([2013,2014,2015,2016], axis =1) \n",
    "avg_unemployment_rate_2009_2012= avg_unemployment_rate_2009_2012.set_index(\"State\")\n",
    "avg_unemployment_rate_2009_2012\n",
    "\n",
    "avg_unemployment_rate_2009_2011=avg_unemployment_rate_2009_2012.drop([2012], axis =1) \n",
    "avg_unemployment_rate_2009_2011\n",
    "\n",
    "avg_unemployment_rate_2009_2011['09_11_average'] = avg_unemployment_rate_2009_2011.mean(axis=1)\n",
    "avg_unemployment_rate_2009_2011\n",
    "\n",
    "avg_unemployment_rate_2012_vs_3yr_average = avg_unemployment_rate_2009_2012[2012]/avg_unemployment_rate_2009_2011['09_11_average']/100\n",
    "avg_unemployment_rate_2012_vs_3yr_average \n",
    "\n",
    "\n",
    "avg_unemployment_rate_2013_2016= avg_unemployment_rate.drop([2009,2010,2011,2012], axis =1) \n",
    "avg_unemployment_rate_2013_2016= avg_unemployment_rate_2013_2016.set_index(\"State\")\n",
    "avg_unemployment_rate_2013_2016\n",
    "\n",
    "avg_unemployment_rate_2013_2015=avg_unemployment_rate_2013_2016.drop([2016], axis =1) \n",
    "avg_unemployment_rate_2013_2015\n",
    "\n",
    "avg_unemployment_rate_2013_2015['13_15_average'] = avg_unemployment_rate_2013_2015.mean(axis=1)\n",
    "avg_unemployment_rate_2013_2015\n",
    "\n",
    "avg_unemployment_rate_2016_vs_3yr_average = avg_unemployment_rate_2013_2016[2016]/avg_unemployment_rate_2013_2015['13_15_average']/100\n",
    "avg_unemployment_rate_2016_vs_3yr_average "
   ]
  },
  {
   "cell_type": "code",
   "execution_count": 14,
   "metadata": {},
   "outputs": [
    {
     "data": {
      "image/png": "[encoded data removed]",
      "text/plain": [
       "<Figure size 432x288 with 1 Axes>"
      ]
     },
     "metadata": {},
     "output_type": "display_data"
    }
   ],
   "source": [
    "# Scatterplot Obama vs Clinton\n",
    "\n",
    "x = results_2012['Obama']\n",
    "y = results_2016['Clinton']\n",
    "colors = (0,0,0)\n",
    "\n",
    "# Plot\n",
    "plt.scatter(x, y, c=\"b\", alpha=0.5)\n",
    "plt.title('Scatter plot Obama vs. Clinton')\n",
    "plt.xlabel('Obama Votes %')\n",
    "plt.ylabel('Clinton Votes %')\n",
    "plt.show()\n"
   ]
  },
  {
   "cell_type": "code",
   "execution_count": 15,
   "metadata": {},
   "outputs": [
    {
     "data": {
      "image/png": "[encoded data removed]",
      "text/plain": [
       "<Figure size 432x288 with 1 Axes>"
      ]
     },
     "metadata": {},
     "output_type": "display_data"
    }
   ],
   "source": [
    "x = home_prices_change_2012_vs_3yr_average\n",
    "y = home_prices_change_2016_vs_3yr_average\n",
    "colors = (0,0,0)\n",
    "\n",
    "# Plot\n",
    "plt.scatter(x, y, c=\"b\", alpha=0.5)\n",
    "plt.title('Scatter plot Obama vs. Clinton')\n",
    "plt.xlabel('Obama HomePriceChanges %')\n",
    "plt.ylabel('Clinton HomePriceChanges %')\n",
    "\n",
    "plt.xlim(0.0075, .012)\n",
    "plt.ylim(0.0075,.012)\n",
    "\n",
    "plt.show()"
   ]
  },
  {
   "cell_type": "code",
   "execution_count": 30,
   "metadata": {},
   "outputs": [
    {
     "data": {
      "image/png": "[encoded data removed]",
      "text/plain": [
       "<Figure size 432x288 with 1 Axes>"
      ]
     },
     "metadata": {},
     "output_type": "display_data"
    }
   ],
   "source": [
    "x = results_2012['Obama']\n",
    "y = home_prices_change_2012_vs_3yr_average\n",
    "\n",
    "\n",
    "# Plot\n",
    "plt.scatter(x, y, c=\"b\", alpha=0.5)\n",
    "plt.title('Scatter plot Obama vs. 2012 HomePriceChanges')\n",
    "plt.xlabel('Obama Votes %')\n",
    "plt.ylabel('2012 HomePriceChanges')\n",
    "\n",
    "plt.xlim(20, 70)\n",
    "plt.ylim(0.0075,.012)\n",
    "\n",
    "plt.show()\n"
   ]
  },
  {
   "cell_type": "code",
   "execution_count": 41,
   "metadata": {},
   "outputs": [
    {
     "data": {
      "image/png": "[encoded data removed]",
      "text/plain": [
       "<Figure size 432x288 with 1 Axes>"
      ]
     },
     "metadata": {},
     "output_type": "display_data"
    }
   ],
   "source": [
    "x = results_2016['Clinton']\n",
    "y = home_prices_change_2016_vs_3yr_average\n",
    "\n",
    "\n",
    "# Plot\n",
    "plt.scatter(x, y, c=\"r\", alpha=0.5)\n",
    "plt.title('Scatter plot Clinton vs. 2016 HomePriceChanges')\n",
    "plt.xlabel('Clinton Votes %')\n",
    "plt.ylabel('2016 HomePriceChanges')\n",
    "\n",
    "plt.xlim(20, 70)\n",
    "plt.ylim(0.0085,.012)\n",
    "\n",
    "plt.show()"
   ]
  },
  {
   "cell_type": "code",
   "execution_count": 28,
   "metadata": {},
   "outputs": [
    {
     "data": {
      "image/png": "[encoded data removed]",
      "text/plain": [
       "<Figure size 432x288 with 1 Axes>"
      ]
     },
     "metadata": {},
     "output_type": "display_data"
    }
   ],
   "source": [
    "x = results_2012['Obama']\n",
    "y = avg_unemployment_rate_2012_vs_3yr_average\n",
    "\n",
    "# Plot\n",
    "plt.scatter(x, y, c=\"b\", alpha=0.5)\n",
    "plt.title('Scatter plot Obama vs. 2012 UnemploymentChanges')\n",
    "plt.xlabel('Obama Votes %')\n",
    "plt.ylabel('2012 UnemploymentChanges')\n",
    "\n",
    "plt.xlim(20, 70)\n",
    "plt.ylim(0.007,.0105)\n",
    "\n",
    "plt.show()\n"
   ]
  },
  {
   "cell_type": "code",
   "execution_count": 39,
   "metadata": {},
   "outputs": [
    {
     "data": {
      "image/png": "[encoded data removed]",
      "text/plain": [
       "<Figure size 432x288 with 1 Axes>"
      ]
     },
     "metadata": {},
     "output_type": "display_data"
    }
   ],
   "source": [
    "x = results_2016['Clinton']\n",
    "y = avg_unemployment_rate_2016_vs_3yr_average\n",
    "\n",
    "# Plot\n",
    "plt.scatter(x, y, c=\"r\", alpha=0.5)\n",
    "plt.title('Scatter plot Clinton vs. 2016 UnemploymentChanges')\n",
    "plt.xlabel('Clinton Votes %')\n",
    "plt.ylabel('2016 UnemploymentChanges')\n",
    "\n",
    "plt.xlim(20, 70)\n",
    "plt.ylim(0.005,.0105)\n",
    "\n",
    "plt.show()"
   ]
  },
  {
   "cell_type": "code",
   "execution_count": 34,
   "metadata": {},
   "outputs": [
    {
     "data": {
      "image/png": "[encoded data removed]",
      "text/plain": [
       "<Figure size 432x288 with 1 Axes>"
      ]
     },
     "metadata": {},
     "output_type": "display_data"
    }
   ],
   "source": [
    "x = results_2012['Obama']\n",
    "y = total_nonfarm_by_state_2012_vs_3yr_average\n",
    "\n",
    "# Plot\n",
    "plt.scatter(x, y, c=\"b\", alpha=0.5)\n",
    "plt.title('Scatter plot Obama vs. 2012 PayrollChanges')\n",
    "plt.xlabel('Obama Votes %')\n",
    "plt.ylabel('2012 PayrollChanges')\n",
    "\n",
    "plt.xlim(20, 70)\n",
    "plt.ylim(0.0098,.0106)\n",
    "\n",
    "plt.show()\n"
   ]
  },
  {
   "cell_type": "code",
   "execution_count": 38,
   "metadata": {},
   "outputs": [
    {
     "data": {
      "image/png": "[encoded data removed]",
      "text/plain": [
       "<Figure size 432x288 with 1 Axes>"
      ]
     },
     "metadata": {},
     "output_type": "display_data"
    }
   ],
   "source": [
    "x = results_2016['Clinton']\n",
    "y = total_nonfarm_by_state_2016_vs_3yr_average\n",
    "\n",
    "# Plot\n",
    "plt.scatter(x, y, c=\"r\", alpha=0.5)\n",
    "plt.title('Scatter plot Clinton vs. 2016 PayrollChanges')\n",
    "plt.xlabel('Clinton Votes %')\n",
    "plt.ylabel('2016 PayrollChanges')\n",
    "\n",
    "plt.xlim(20, 70)\n",
    "plt.ylim(0.0098,.0108)\n",
    "\n",
    "plt.show()"
   ]
  },
  {
   "cell_type": "code",
   "execution_count": null,
   "metadata": {},
   "outputs": [],
   "source": []
  }
 ],
 "metadata": {
  "kernelspec": {
   "display_name": "Python 3",
   "language": "python",
   "name": "python3"
  },
  "language_info": {
   "codemirror_mode": {
    "name": "ipython",
    "version": 3
   },
   "file_extension": ".py",
   "mimetype": "text/x-python",
   "name": "python",
   "nbconvert_exporter": "python",
   "pygments_lexer": "ipython3",
   "version": "3.7.3"
  }
 },
 "nbformat": 4,
 "nbformat_minor": 2
}
