{
 "cells": [
  {
   "cell_type": "code",
   "execution_count": 29,
   "metadata": {},
   "outputs": [],
   "source": [
    "import csv\n",
    "import pandas as pd\n",
    "import datetime\n",
    "\n"
   ]
  },
  {
   "cell_type": "code",
   "execution_count": 30,
   "metadata": {},
   "outputs": [],
   "source": [
    "unemployment_rate = \"CivilianUnemplymentRate.csv\""
   ]
  },
  {
   "cell_type": "code",
   "execution_count": 31,
   "metadata": {},
   "outputs": [
    {
     "data": {
      "text/html": [
       "<div>\n",
       "<style scoped>\n",
       "    .dataframe tbody tr th:only-of-type {\n",
       "        vertical-align: middle;\n",
       "    }\n",
       "\n",
       "    .dataframe tbody tr th {\n",
       "        vertical-align: top;\n",
       "    }\n",
       "\n",
       "    .dataframe thead th {\n",
       "        text-align: right;\n",
       "    }\n",
       "</style>\n",
       "<table border=\"1\" class=\"dataframe\">\n",
       "  <thead>\n",
       "    <tr style=\"text-align: right;\">\n",
       "      <th></th>\n",
       "      <th>DATE</th>\n",
       "      <th>UNRATE</th>\n",
       "    </tr>\n",
       "  </thead>\n",
       "  <tbody>\n",
       "    <tr>\n",
       "      <td>0</td>\n",
       "      <td>1/1/1960</td>\n",
       "      <td>5.2</td>\n",
       "    </tr>\n",
       "    <tr>\n",
       "      <td>1</td>\n",
       "      <td>2/1/1960</td>\n",
       "      <td>4.8</td>\n",
       "    </tr>\n",
       "    <tr>\n",
       "      <td>2</td>\n",
       "      <td>3/1/1960</td>\n",
       "      <td>5.4</td>\n",
       "    </tr>\n",
       "    <tr>\n",
       "      <td>3</td>\n",
       "      <td>4/1/1960</td>\n",
       "      <td>5.2</td>\n",
       "    </tr>\n",
       "    <tr>\n",
       "      <td>4</td>\n",
       "      <td>5/1/1960</td>\n",
       "      <td>5.1</td>\n",
       "    </tr>\n",
       "  </tbody>\n",
       "</table>\n",
       "</div>"
      ],
      "text/plain": [
       "       DATE  UNRATE\n",
       "0  1/1/1960     5.2\n",
       "1  2/1/1960     4.8\n",
       "2  3/1/1960     5.4\n",
       "3  4/1/1960     5.2\n",
       "4  5/1/1960     5.1"
      ]
     },
     "execution_count": 31,
     "metadata": {},
     "output_type": "execute_result"
    }
   ],
   "source": [
    "unemployment_rate_pd = pd.read_csv(unemployment_rate)\n",
    "unemployment_rate_pd.head()"
   ]
  },
  {
   "cell_type": "code",
   "execution_count": 32,
   "metadata": {},
   "outputs": [],
   "source": [
    "employees_non_farm = \"NonFarmPayroll.csv\""
   ]
  },
  {
   "cell_type": "code",
   "execution_count": 33,
   "metadata": {},
   "outputs": [
    {
     "data": {
      "text/html": [
       "<div>\n",
       "<style scoped>\n",
       "    .dataframe tbody tr th:only-of-type {\n",
       "        vertical-align: middle;\n",
       "    }\n",
       "\n",
       "    .dataframe tbody tr th {\n",
       "        vertical-align: top;\n",
       "    }\n",
       "\n",
       "    .dataframe thead th {\n",
       "        text-align: right;\n",
       "    }\n",
       "</style>\n",
       "<table border=\"1\" class=\"dataframe\">\n",
       "  <thead>\n",
       "    <tr style=\"text-align: right;\">\n",
       "      <th></th>\n",
       "      <th>DATE</th>\n",
       "      <th>PAYEMS</th>\n",
       "    </tr>\n",
       "  </thead>\n",
       "  <tbody>\n",
       "    <tr>\n",
       "      <td>0</td>\n",
       "      <td>1/1/1960</td>\n",
       "      <td>54274</td>\n",
       "    </tr>\n",
       "    <tr>\n",
       "      <td>1</td>\n",
       "      <td>2/1/1960</td>\n",
       "      <td>54513</td>\n",
       "    </tr>\n",
       "    <tr>\n",
       "      <td>2</td>\n",
       "      <td>3/1/1960</td>\n",
       "      <td>54454</td>\n",
       "    </tr>\n",
       "    <tr>\n",
       "      <td>3</td>\n",
       "      <td>4/1/1960</td>\n",
       "      <td>54813</td>\n",
       "    </tr>\n",
       "    <tr>\n",
       "      <td>4</td>\n",
       "      <td>5/1/1960</td>\n",
       "      <td>54475</td>\n",
       "    </tr>\n",
       "  </tbody>\n",
       "</table>\n",
       "</div>"
      ],
      "text/plain": [
       "       DATE  PAYEMS\n",
       "0  1/1/1960   54274\n",
       "1  2/1/1960   54513\n",
       "2  3/1/1960   54454\n",
       "3  4/1/1960   54813\n",
       "4  5/1/1960   54475"
      ]
     },
     "execution_count": 33,
     "metadata": {},
     "output_type": "execute_result"
    }
   ],
   "source": [
    "employees_non_farm_pd = pd.read_csv(employees_non_farm)\n",
    "employees_non_farm_pd.head()"
   ]
  },
  {
   "cell_type": "code",
   "execution_count": 36,
   "metadata": {},
   "outputs": [
    {
     "data": {
      "text/html": [
       "<div>\n",
       "<style scoped>\n",
       "    .dataframe tbody tr th:only-of-type {\n",
       "        vertical-align: middle;\n",
       "    }\n",
       "\n",
       "    .dataframe tbody tr th {\n",
       "        vertical-align: top;\n",
       "    }\n",
       "\n",
       "    .dataframe thead th {\n",
       "        text-align: right;\n",
       "    }\n",
       "</style>\n",
       "<table border=\"1\" class=\"dataframe\">\n",
       "  <thead>\n",
       "    <tr style=\"text-align: right;\">\n",
       "      <th></th>\n",
       "      <th>UNRATE</th>\n",
       "      <th>PAYEMS</th>\n",
       "    </tr>\n",
       "    <tr>\n",
       "      <th>DATE</th>\n",
       "      <th></th>\n",
       "      <th></th>\n",
       "    </tr>\n",
       "  </thead>\n",
       "  <tbody>\n",
       "    <tr>\n",
       "      <td>1/1/1960</td>\n",
       "      <td>5.2</td>\n",
       "      <td>54274</td>\n",
       "    </tr>\n",
       "    <tr>\n",
       "      <td>2/1/1960</td>\n",
       "      <td>4.8</td>\n",
       "      <td>54513</td>\n",
       "    </tr>\n",
       "    <tr>\n",
       "      <td>3/1/1960</td>\n",
       "      <td>5.4</td>\n",
       "      <td>54454</td>\n",
       "    </tr>\n",
       "    <tr>\n",
       "      <td>4/1/1960</td>\n",
       "      <td>5.2</td>\n",
       "      <td>54813</td>\n",
       "    </tr>\n",
       "    <tr>\n",
       "      <td>5/1/1960</td>\n",
       "      <td>5.1</td>\n",
       "      <td>54475</td>\n",
       "    </tr>\n",
       "    <tr>\n",
       "      <td>...</td>\n",
       "      <td>...</td>\n",
       "      <td>...</td>\n",
       "    </tr>\n",
       "    <tr>\n",
       "      <td>4/1/2019</td>\n",
       "      <td>3.6</td>\n",
       "      <td>151012</td>\n",
       "    </tr>\n",
       "    <tr>\n",
       "      <td>5/1/2019</td>\n",
       "      <td>3.6</td>\n",
       "      <td>151074</td>\n",
       "    </tr>\n",
       "    <tr>\n",
       "      <td>6/1/2019</td>\n",
       "      <td>3.7</td>\n",
       "      <td>151252</td>\n",
       "    </tr>\n",
       "    <tr>\n",
       "      <td>7/1/2019</td>\n",
       "      <td>3.7</td>\n",
       "      <td>151411</td>\n",
       "    </tr>\n",
       "    <tr>\n",
       "      <td>8/1/2019</td>\n",
       "      <td>3.7</td>\n",
       "      <td>151541</td>\n",
       "    </tr>\n",
       "  </tbody>\n",
       "</table>\n",
       "<p>716 rows × 2 columns</p>\n",
       "</div>"
      ],
      "text/plain": [
       "          UNRATE  PAYEMS\n",
       "DATE                    \n",
       "1/1/1960     5.2   54274\n",
       "2/1/1960     4.8   54513\n",
       "3/1/1960     5.4   54454\n",
       "4/1/1960     5.2   54813\n",
       "5/1/1960     5.1   54475\n",
       "...          ...     ...\n",
       "4/1/2019     3.6  151012\n",
       "5/1/2019     3.6  151074\n",
       "6/1/2019     3.7  151252\n",
       "7/1/2019     3.7  151411\n",
       "8/1/2019     3.7  151541\n",
       "\n",
       "[716 rows x 2 columns]"
      ]
     },
     "execution_count": 36,
     "metadata": {},
     "output_type": "execute_result"
    }
   ],
   "source": [
    "df_combined = pd.merge(unemployment_rate_pd, employees_non_farm_pd, how='left')\n",
    "\n",
    "df_combined.set_index('DATE', inplace=True)\n",
    "df_combined\n",
    "\n"
   ]
  },
  {
   "cell_type": "code",
   "execution_count": null,
   "metadata": {},
   "outputs": [],
   "source": [
    "\n"
   ]
  },
  {
   "cell_type": "code",
   "execution_count": null,
   "metadata": {},
   "outputs": [],
   "source": []
  }
 ],
 "metadata": {
  "kernelspec": {
   "display_name": "Python 3",
   "language": "python",
   "name": "python3"
  },
  "language_info": {
   "codemirror_mode": {
    "name": "ipython",
    "version": 3
   },
   "file_extension": ".py",
   "mimetype": "text/x-python",
   "name": "python",
   "nbconvert_exporter": "python",
   "pygments_lexer": "ipython3",
   "version": "3.6.5"
  }
 },
 "nbformat": 4,
 "nbformat_minor": 2
}
