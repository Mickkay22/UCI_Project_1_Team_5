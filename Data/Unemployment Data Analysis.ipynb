{
 "cells": [
  {
   "cell_type": "code",
   "execution_count": 7,
   "metadata": {},
   "outputs": [],
   "source": [
    "import requests\n",
    "import json\n",
    "import pandas as pd"
   ]
  },
  {
   "cell_type": "code",
   "execution_count": 8,
   "metadata": {
    "scrolled": true
   },
   "outputs": [],
   "source": [
    "#Get your jsonified api data here\n",
    "startyear = [2000,1980,1960]\n",
    "endyear = [2019,1999,1979]\n",
    "Years = []\n",
    "Months = []\n",
    "Crime_Rate = []\n",
    "\n",
    "for year in range(len(startyear)):\n",
    "    base_URL = \"https://api.bls.gov/publicAPI/v2/timeseries/data/\"\n",
    "    headers = {'Content-type': 'application/json'}\n",
    "    data = json.dumps({\"seriesid\": [\"LNS14000000\"],\"startyear\":startyear[year], \"endyear\":endyear[year],\"registrationkey\":\"a1996666110d420cbf38f706289109f6\"})\n",
    "    Complete_Data = requests.post(f\"{base_URL}\",data=data, headers=headers)\n",
    "    Complete_Data = Complete_Data.json()\n",
    "    for i in Complete_Data[\"Results\"][\"series\"][0][\"data\"]:\n",
    "        Years.append(i[\"year\"])\n",
    "        Months.append(int(i[\"period\"].replace('M', '')))\n",
    "        Crime_Rate.append(i[\"value\"])"
   ]
  },
  {
   "cell_type": "code",
   "execution_count": 9,
   "metadata": {},
   "outputs": [],
   "source": [
    "Collected_Data = pd.DataFrame({\"Years\":Years,\n",
    "                              \"Months\":Months,\n",
    "                              \"Crime Rate\":Crime_Rate})\n"
   ]
  },
  {
   "cell_type": "code",
   "execution_count": 10,
   "metadata": {},
   "outputs": [],
   "source": [
    "Collected_Data.to_csv(\"Unemployment Data.csv\")"
   ]
  },
  {
   "cell_type": "code",
   "execution_count": null,
   "metadata": {},
   "outputs": [],
   "source": []
  },
  {
   "cell_type": "code",
   "execution_count": null,
   "metadata": {},
   "outputs": [],
   "source": []
  }
 ],
 "metadata": {
  "kernelspec": {
   "display_name": "Python [conda env:PythonData]",
   "language": "python",
   "name": "conda-env-PythonData-py"
  },
  "language_info": {
   "codemirror_mode": {
    "name": "ipython",
    "version": 3
   },
   "file_extension": ".py",
   "mimetype": "text/x-python",
   "name": "python",
   "nbconvert_exporter": "python",
   "pygments_lexer": "ipython3",
   "version": "3.6.9"
  }
 },
 "nbformat": 4,
 "nbformat_minor": 2
}
