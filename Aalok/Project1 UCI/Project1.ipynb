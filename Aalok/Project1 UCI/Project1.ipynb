{
 "cells": [
  {
   "cell_type": "code",
   "execution_count": 1,
   "metadata": {},
   "outputs": [],
   "source": [
    "import csv\n",
    "import pandas as pd\n",
    "import numpy as np\n",
    "import matplotlib.pyplot as plt\n",
    "\n"
   ]
  },
  {
   "cell_type": "code",
   "execution_count": 2,
   "metadata": {},
   "outputs": [],
   "source": [
    "results_2012 = pd.read_excel (r'2012 Results.xlsx')\n",
    "\n",
    "pd.options.display.float_format = '{:,.2f}'.format\n",
    "\n",
    "results_2012.drop(results_2012.columns[[1,4,5,6,7]],axis = 1, inplace = True)\n",
    "results_2012\n",
    "\n",
    "results_2012.set_index('State')\n",
    "\n",
    "#Strip % sign from numbers\n",
    "results_2012['Obama'] = [results_2012['Obama'] [i].strip('%') for i in range(len(results_2012[\"Obama\"]))]\n",
    "results_2012['Romney'] = [results_2012['Romney'] [i].strip('%') for i in range(len(results_2012[\"Romney\"]))]\n",
    "\n",
    "# #Change objects to floats\n",
    "\n",
    "results_2012['Obama'] = results_2012.Obama.astype(float)\n",
    "results_2012['Romney'] = results_2012.Romney.astype(float)\n"
   ]
  },
  {
   "cell_type": "code",
   "execution_count": 3,
   "metadata": {},
   "outputs": [
    {
     "data": {
      "image/png": "[encoded data removed]",
      "text/plain": [
       "<Figure size 432x288 with 1 Axes>"
      ]
     },
     "metadata": {},
     "output_type": "display_data"
    }
   ],
   "source": [
    "boxplot = results_2012.boxplot(column=['Obama', 'Romney'])\n"
   ]
  },
  {
   "cell_type": "code",
   "execution_count": 4,
   "metadata": {},
   "outputs": [
    {
     "data": {
      "text/html": [
       "<div>\n",
       "<style scoped>\n",
       "    .dataframe tbody tr th:only-of-type {\n",
       "        vertical-align: middle;\n",
       "    }\n",
       "\n",
       "    .dataframe tbody tr th {\n",
       "        vertical-align: top;\n",
       "    }\n",
       "\n",
       "    .dataframe thead th {\n",
       "        text-align: right;\n",
       "    }\n",
       "</style>\n",
       "<table border=\"1\" class=\"dataframe\">\n",
       "  <thead>\n",
       "    <tr style=\"text-align: right;\">\n",
       "      <th></th>\n",
       "      <th>Clinton</th>\n",
       "      <th>Trump</th>\n",
       "    </tr>\n",
       "    <tr>\n",
       "      <th>State</th>\n",
       "      <th></th>\n",
       "      <th></th>\n",
       "    </tr>\n",
       "  </thead>\n",
       "  <tbody>\n",
       "    <tr>\n",
       "      <td>Alabama</td>\n",
       "      <td>34.36</td>\n",
       "      <td>62.08</td>\n",
       "    </tr>\n",
       "    <tr>\n",
       "      <td>Alaska</td>\n",
       "      <td>36.55</td>\n",
       "      <td>51.28</td>\n",
       "    </tr>\n",
       "    <tr>\n",
       "      <td>Arizona</td>\n",
       "      <td>44.58</td>\n",
       "      <td>48.08</td>\n",
       "    </tr>\n",
       "    <tr>\n",
       "      <td>Arkansas</td>\n",
       "      <td>33.65</td>\n",
       "      <td>60.57</td>\n",
       "    </tr>\n",
       "    <tr>\n",
       "      <td>California</td>\n",
       "      <td>61.48</td>\n",
       "      <td>31.49</td>\n",
       "    </tr>\n",
       "  </tbody>\n",
       "</table>\n",
       "</div>"
      ],
      "text/plain": [
       "            Clinton  Trump\n",
       "State                     \n",
       "Alabama       34.36  62.08\n",
       "Alaska        36.55  51.28\n",
       "Arizona       44.58  48.08\n",
       "Arkansas      33.65  60.57\n",
       "California    61.48  31.49"
      ]
     },
     "execution_count": 4,
     "metadata": {},
     "output_type": "execute_result"
    }
   ],
   "source": [
    "results_2016 = pd.read_excel (r'2016 Results.xlsx')\n",
    "\n",
    "\n",
    "\n",
    "results_2016.drop(results_2016.columns[[1,4,5]],axis = 1, inplace = True)\n",
    "results_2016\n",
    "\n",
    "results_2016.set_index('State')\n",
    "\n",
    "#Strip % sign from numbers\n",
    "results_2016['Clinton'] = [results_2016['Clinton'] [i].strip('%') for i in range(len(results_2016[\"Clinton\"]))]\n",
    "results_2016['Trump'] = [results_2016['Trump'] [i].strip('%') for i in range(len(results_2016[\"Trump\"]))]\n",
    "\n",
    "#Change objects to floats\n",
    "\n",
    "results_2016['Clinton'] = results_2016.Clinton.astype(float)\n",
    "results_2016['Trump'] = results_2016.Trump.astype(float)\n",
    "\n",
    "results_2016.set_index('State').head()"
   ]
  },
  {
   "cell_type": "code",
   "execution_count": 5,
   "metadata": {},
   "outputs": [
    {
     "data": {
      "image/png": "[encoded data removed]",
      "text/plain": [
       "<Figure size 432x288 with 1 Axes>"
      ]
     },
     "metadata": {},
     "output_type": "display_data"
    }
   ],
   "source": [
    "boxplot = results_2016.boxplot(column=['Clinton', 'Trump'])"
   ]
  },
  {
   "cell_type": "code",
   "execution_count": 6,
   "metadata": {},
   "outputs": [
    {
     "data": {
      "text/html": [
       "<div>\n",
       "<style scoped>\n",
       "    .dataframe tbody tr th:only-of-type {\n",
       "        vertical-align: middle;\n",
       "    }\n",
       "\n",
       "    .dataframe tbody tr th {\n",
       "        vertical-align: top;\n",
       "    }\n",
       "\n",
       "    .dataframe thead th {\n",
       "        text-align: right;\n",
       "    }\n",
       "</style>\n",
       "<table border=\"1\" class=\"dataframe\">\n",
       "  <thead>\n",
       "    <tr style=\"text-align: right;\">\n",
       "      <th></th>\n",
       "      <th>Clinton</th>\n",
       "      <th>Trump</th>\n",
       "    </tr>\n",
       "    <tr>\n",
       "      <th>State</th>\n",
       "      <th></th>\n",
       "      <th></th>\n",
       "    </tr>\n",
       "  </thead>\n",
       "  <tbody>\n",
       "    <tr>\n",
       "      <td>Alabama</td>\n",
       "      <td>34.36</td>\n",
       "      <td>62.08</td>\n",
       "    </tr>\n",
       "    <tr>\n",
       "      <td>Alaska</td>\n",
       "      <td>36.55</td>\n",
       "      <td>51.28</td>\n",
       "    </tr>\n",
       "    <tr>\n",
       "      <td>Arizona</td>\n",
       "      <td>44.58</td>\n",
       "      <td>48.08</td>\n",
       "    </tr>\n",
       "    <tr>\n",
       "      <td>Arkansas</td>\n",
       "      <td>33.65</td>\n",
       "      <td>60.57</td>\n",
       "    </tr>\n",
       "    <tr>\n",
       "      <td>California</td>\n",
       "      <td>61.48</td>\n",
       "      <td>31.49</td>\n",
       "    </tr>\n",
       "  </tbody>\n",
       "</table>\n",
       "</div>"
      ],
      "text/plain": [
       "            Clinton  Trump\n",
       "State                     \n",
       "Alabama       34.36  62.08\n",
       "Alaska        36.55  51.28\n",
       "Arizona       44.58  48.08\n",
       "Arkansas      33.65  60.57\n",
       "California    61.48  31.49"
      ]
     },
     "execution_count": 6,
     "metadata": {},
     "output_type": "execute_result"
    }
   ],
   "source": [
    "\n",
    "\n",
    "results_2012_2016= pd.merge(results_2012, results_2016, on='State')\n",
    "\n",
    "results_2012_2016\n",
    "\n",
    "results_2016.set_index('State').head()\n",
    "\n"
   ]
  },
  {
   "cell_type": "code",
   "execution_count": 7,
   "metadata": {},
   "outputs": [
    {
     "data": {
      "image/png": "[encoded data removed]",
      "text/plain": [
       "<Figure size 432x288 with 1 Axes>"
      ]
     },
     "metadata": {},
     "output_type": "display_data"
    }
   ],
   "source": [
    "boxplot = results_2012_2016.boxplot(column=['Obama', 'Clinton'])"
   ]
  },
  {
   "cell_type": "code",
   "execution_count": 126,
   "metadata": {},
   "outputs": [
    {
     "data": {
      "text/plain": [
       "State\n",
       "Alabama      0.0101\n",
       "Alaska       0.0103\n",
       "Arizona      0.0095\n",
       "Arkansas     0.0096\n",
       "California   0.0100\n",
       "dtype: float64"
      ]
     },
     "execution_count": 126,
     "metadata": {},
     "output_type": "execute_result"
    }
   ],
   "source": [
    "pd.options.display.float_format = '{:,.4f}'.format\n",
    "median_home_prices = pd.read_excel (r'Median Income by Years.xlsx')\n",
    "median_home_prices\n",
    "median_home_prices.head()\n",
    "\n",
    "median_home_prices.set_index('State')\n",
    "\n",
    "\n",
    "\n",
    "\n",
    "\n",
    "median_home_prices_2009_2012= median_home_prices.drop([2016, 2015,2014,2013], axis=1)\n",
    "median_home_prices_2009_2012_new = median_home_prices_2009_2012.set_index('State')\n",
    "\n",
    "median_home_prices_2009_2011 = median_home_prices_2009_2012_new[median_home_prices_2009_2012_new.columns[1:5]]\n",
    "median_home_prices_2009_2011\n",
    "\n",
    "median_home_prices_2009_2011['09_11_average'] = median_home_prices_2009_2011.mean(axis=1)\n",
    "median_home_prices_2009_2011\n",
    "\n",
    "home_prices_change_2012_vs_3yr_average = median_home_prices_2009_2012_new[2012]/median_home_prices_2009_2011['09_11_average']/100\n",
    "\n",
    "home_prices_change_2012_vs_3yr_average.head()\n",
    "\n",
    "\n"
   ]
  },
  {
   "cell_type": "code",
   "execution_count": 127,
   "metadata": {},
   "outputs": [
    {
     "data": {
      "text/plain": [
       "State\n",
       "Virginia        0.0101\n",
       "Washington      0.0109\n",
       "West Virginia   0.0104\n",
       "Wisconsin       0.0107\n",
       "Wyoming         0.0092\n",
       "dtype: float64"
      ]
     },
     "execution_count": 127,
     "metadata": {},
     "output_type": "execute_result"
    }
   ],
   "source": [
    "median_home_prices_2013_2016= median_home_prices[median_home_prices.columns[0:5]] \n",
    "\n",
    "median_home_prices_2013_2016_new = median_home_prices_2013_2016.set_index('State')\n",
    "median_home_prices_2013_2015 = median_home_prices_2013_2016_new[median_home_prices_2013_2016_new.columns[1:5]]\n",
    "median_home_prices_2013_2015\n",
    "\n",
    "median_home_prices_2013_2015['13_15_average'] = median_home_prices_2013_2015.mean(axis=1)\n",
    "median_home_prices_2013_2015\n",
    "\n",
    "home_prices_change_2016_vs_3yr_average = median_home_prices_2013_2016_new[2016]/median_home_prices_2013_2015['13_15_average']/100\n",
    "home_prices_change_2016_vs_3yr_average.tail()\n",
    "\n"
   ]
  },
  {
   "cell_type": "code",
   "execution_count": 10,
   "metadata": {},
   "outputs": [
    {
     "data": {
      "text/html": [
       "<div>\n",
       "<style scoped>\n",
       "    .dataframe tbody tr th:only-of-type {\n",
       "        vertical-align: middle;\n",
       "    }\n",
       "\n",
       "    .dataframe tbody tr th {\n",
       "        vertical-align: top;\n",
       "    }\n",
       "\n",
       "    .dataframe thead th {\n",
       "        text-align: right;\n",
       "    }\n",
       "</style>\n",
       "<table border=\"1\" class=\"dataframe\">\n",
       "  <thead>\n",
       "    <tr style=\"text-align: right;\">\n",
       "      <th></th>\n",
       "      <th>State</th>\n",
       "      <th>2009</th>\n",
       "      <th>2010</th>\n",
       "      <th>2011</th>\n",
       "      <th>2012</th>\n",
       "      <th>2013</th>\n",
       "      <th>2014</th>\n",
       "      <th>2015</th>\n",
       "      <th>2016</th>\n",
       "      <th>2017</th>\n",
       "      <th>2018</th>\n",
       "    </tr>\n",
       "  </thead>\n",
       "  <tbody>\n",
       "    <tr>\n",
       "      <td>0</td>\n",
       "      <td>Alabama</td>\n",
       "      <td>1,905.0000</td>\n",
       "      <td>1,890.1000</td>\n",
       "      <td>1,890.0000</td>\n",
       "      <td>1,905.7000</td>\n",
       "      <td>1,924.0000</td>\n",
       "      <td>1,944.2000</td>\n",
       "      <td>1,971.2000</td>\n",
       "      <td>1,997.0000</td>\n",
       "      <td>2,018.7000</td>\n",
       "      <td>2,042.0000</td>\n",
       "    </tr>\n",
       "    <tr>\n",
       "      <td>1</td>\n",
       "      <td>Alaska</td>\n",
       "      <td>320.9000</td>\n",
       "      <td>325.0000</td>\n",
       "      <td>330.2000</td>\n",
       "      <td>335.2000</td>\n",
       "      <td>336.5000</td>\n",
       "      <td>338.1000</td>\n",
       "      <td>339.1000</td>\n",
       "      <td>333.5000</td>\n",
       "      <td>329.2000</td>\n",
       "      <td>327.3000</td>\n",
       "    </tr>\n",
       "    <tr>\n",
       "      <td>2</td>\n",
       "      <td>Arizona</td>\n",
       "      <td>2,432.6000</td>\n",
       "      <td>2,386.1000</td>\n",
       "      <td>2,411.4000</td>\n",
       "      <td>2,462.4000</td>\n",
       "      <td>2,520.0000</td>\n",
       "      <td>2,570.3000</td>\n",
       "      <td>2,636.4000</td>\n",
       "      <td>2,708.8000</td>\n",
       "      <td>2,777.3000</td>\n",
       "      <td>2,856.0000</td>\n",
       "    </tr>\n",
       "    <tr>\n",
       "      <td>3</td>\n",
       "      <td>Arkansas</td>\n",
       "      <td>1,164.6000</td>\n",
       "      <td>1,162.9000</td>\n",
       "      <td>1,169.5000</td>\n",
       "      <td>1,177.1000</td>\n",
       "      <td>1,177.6000</td>\n",
       "      <td>1,190.0000</td>\n",
       "      <td>1,213.2000</td>\n",
       "      <td>1,233.0000</td>\n",
       "      <td>1,248.7000</td>\n",
       "      <td>1,261.9000</td>\n",
       "    </tr>\n",
       "    <tr>\n",
       "      <td>4</td>\n",
       "      <td>California</td>\n",
       "      <td>14,439.1000</td>\n",
       "      <td>14,283.3000</td>\n",
       "      <td>14,434.7000</td>\n",
       "      <td>14,761.9000</td>\n",
       "      <td>15,151.3000</td>\n",
       "      <td>15,576.1000</td>\n",
       "      <td>16,052.4000</td>\n",
       "      <td>16,480.7000</td>\n",
       "      <td>16,836.7000</td>\n",
       "      <td>17,175.2000</td>\n",
       "    </tr>\n",
       "  </tbody>\n",
       "</table>\n",
       "</div>"
      ],
      "text/plain": [
       "        State        2009        2010        2011        2012        2013  \\\n",
       "0     Alabama  1,905.0000  1,890.1000  1,890.0000  1,905.7000  1,924.0000   \n",
       "1      Alaska    320.9000    325.0000    330.2000    335.2000    336.5000   \n",
       "2     Arizona  2,432.6000  2,386.1000  2,411.4000  2,462.4000  2,520.0000   \n",
       "3    Arkansas  1,164.6000  1,162.9000  1,169.5000  1,177.1000  1,177.6000   \n",
       "4  California 14,439.1000 14,283.3000 14,434.7000 14,761.9000 15,151.3000   \n",
       "\n",
       "         2014        2015        2016        2017        2018  \n",
       "0  1,944.2000  1,971.2000  1,997.0000  2,018.7000  2,042.0000  \n",
       "1    338.1000    339.1000    333.5000    329.2000    327.3000  \n",
       "2  2,570.3000  2,636.4000  2,708.8000  2,777.3000  2,856.0000  \n",
       "3  1,190.0000  1,213.2000  1,233.0000  1,248.7000  1,261.9000  \n",
       "4 15,576.1000 16,052.4000 16,480.7000 16,836.7000 17,175.2000  "
      ]
     },
     "execution_count": 10,
     "metadata": {},
     "output_type": "execute_result"
    }
   ],
   "source": [
    "total_nonfarm_by_state = pd.read_excel (r'Total_Nonfarm_by_State.xlsx')\n",
    "total_nonfarm_by_state.head()"
   ]
  },
  {
   "cell_type": "code",
   "execution_count": 128,
   "metadata": {},
   "outputs": [
    {
     "data": {
      "text/plain": [
       "State\n",
       "Alabama      0.0103\n",
       "Alaska       0.0099\n",
       "Arizona      0.0105\n",
       "Arkansas     0.0103\n",
       "California   0.0106\n",
       "dtype: float64"
      ]
     },
     "execution_count": 128,
     "metadata": {},
     "output_type": "execute_result"
    }
   ],
   "source": [
    "pd.options.display.float_format = '{:,.4f}'.format\n",
    "\n",
    "\n",
    "\n",
    "total_nonfarm_by_state_2009_2012= total_nonfarm_by_state.drop([\"2013\",\"2014\",\"2015\",\"2016\",\"2017\",\"2018\"], axis =1) \n",
    "total_nonfarm_by_state_2009_2012= total_nonfarm_by_state_2009_2012.set_index(\"State\")\n",
    "total_nonfarm_by_state_2009_2012\n",
    "\n",
    "total_nonfarm_by_state_2009_2011=total_nonfarm_by_state_2009_2012.drop([\"2012\"], axis =1) \n",
    "total_nonfarm_by_state_2009_2011\n",
    "\n",
    "total_nonfarm_by_state_2009_2011['09_11_average'] = total_nonfarm_by_state_2009_2011.mean(axis=1)\n",
    "total_nonfarm_by_state_2009_2011\n",
    "\n",
    "total_nonfarm_by_state_2012_vs_3yr_average = total_nonfarm_by_state_2009_2012[\"2012\"]/total_nonfarm_by_state_2009_2011['09_11_average']/100\n",
    "total_nonfarm_by_state_2012_vs_3yr_average \n",
    "\n",
    "\n",
    "total_nonfarm_by_state_2013_2016= total_nonfarm_by_state.drop([\"2009\",\"2010\",\"2011\",\"2012\",\"2017\",\"2018\"], axis =1) \n",
    "total_nonfarm_by_state_2013_2016= total_nonfarm_by_state_2013_2016.set_index(\"State\")\n",
    "total_nonfarm_by_state_2013_2016\n",
    "\n",
    "total_nonfarm_by_state_2013_2015=total_nonfarm_by_state_2013_2016.drop([\"2016\"], axis =1) \n",
    "total_nonfarm_by_state_2013_2015\n",
    "\n",
    "total_nonfarm_by_state_2013_2015['13_15_average'] = total_nonfarm_by_state_2013_2015.mean(axis=1)\n",
    "total_nonfarm_by_state_2013_2015\n",
    "\n",
    "total_nonfarm_by_state_2016_vs_3yr_average = total_nonfarm_by_state_2013_2016[\"2016\"]/total_nonfarm_by_state_2013_2015['13_15_average']/100\n",
    "total_nonfarm_by_state_2016_vs_3yr_average.head()"
   ]
  },
  {
   "cell_type": "code",
   "execution_count": 12,
   "metadata": {},
   "outputs": [
    {
     "data": {
      "text/html": [
       "<div>\n",
       "<style scoped>\n",
       "    .dataframe tbody tr th:only-of-type {\n",
       "        vertical-align: middle;\n",
       "    }\n",
       "\n",
       "    .dataframe tbody tr th {\n",
       "        vertical-align: top;\n",
       "    }\n",
       "\n",
       "    .dataframe thead th {\n",
       "        text-align: right;\n",
       "    }\n",
       "</style>\n",
       "<table border=\"1\" class=\"dataframe\">\n",
       "  <thead>\n",
       "    <tr style=\"text-align: right;\">\n",
       "      <th></th>\n",
       "      <th>State</th>\n",
       "      <th>2016</th>\n",
       "      <th>2015</th>\n",
       "      <th>2014</th>\n",
       "      <th>2013</th>\n",
       "      <th>2012</th>\n",
       "      <th>2011</th>\n",
       "      <th>2010</th>\n",
       "      <th>2009</th>\n",
       "    </tr>\n",
       "  </thead>\n",
       "  <tbody>\n",
       "    <tr>\n",
       "      <td>0</td>\n",
       "      <td>Alabama</td>\n",
       "      <td>5.8000</td>\n",
       "      <td>6.1000</td>\n",
       "      <td>6.8000</td>\n",
       "      <td>7.2000</td>\n",
       "      <td>8.0000</td>\n",
       "      <td>9.6000</td>\n",
       "      <td>10.5000</td>\n",
       "      <td>11.0000</td>\n",
       "    </tr>\n",
       "    <tr>\n",
       "      <td>1</td>\n",
       "      <td>Alaska</td>\n",
       "      <td>6.9000</td>\n",
       "      <td>6.5000</td>\n",
       "      <td>6.9000</td>\n",
       "      <td>7.0000</td>\n",
       "      <td>7.1000</td>\n",
       "      <td>7.6000</td>\n",
       "      <td>7.9000</td>\n",
       "      <td>7.7000</td>\n",
       "    </tr>\n",
       "    <tr>\n",
       "      <td>2</td>\n",
       "      <td>Arizona</td>\n",
       "      <td>5.4000</td>\n",
       "      <td>6.1000</td>\n",
       "      <td>6.8000</td>\n",
       "      <td>7.7000</td>\n",
       "      <td>8.3000</td>\n",
       "      <td>9.5000</td>\n",
       "      <td>10.4000</td>\n",
       "      <td>9.9000</td>\n",
       "    </tr>\n",
       "    <tr>\n",
       "      <td>3</td>\n",
       "      <td>Arkansas</td>\n",
       "      <td>4.0000</td>\n",
       "      <td>5.0000</td>\n",
       "      <td>6.0000</td>\n",
       "      <td>7.2000</td>\n",
       "      <td>7.6000</td>\n",
       "      <td>8.3000</td>\n",
       "      <td>8.2000</td>\n",
       "      <td>7.8000</td>\n",
       "    </tr>\n",
       "    <tr>\n",
       "      <td>4</td>\n",
       "      <td>California</td>\n",
       "      <td>5.5000</td>\n",
       "      <td>6.2000</td>\n",
       "      <td>7.5000</td>\n",
       "      <td>8.9000</td>\n",
       "      <td>10.4000</td>\n",
       "      <td>11.7000</td>\n",
       "      <td>12.2000</td>\n",
       "      <td>11.2000</td>\n",
       "    </tr>\n",
       "  </tbody>\n",
       "</table>\n",
       "</div>"
      ],
      "text/plain": [
       "        State   2016   2015   2014   2013    2012    2011    2010    2009\n",
       "0     Alabama 5.8000 6.1000 6.8000 7.2000  8.0000  9.6000 10.5000 11.0000\n",
       "1      Alaska 6.9000 6.5000 6.9000 7.0000  7.1000  7.6000  7.9000  7.7000\n",
       "2     Arizona 5.4000 6.1000 6.8000 7.7000  8.3000  9.5000 10.4000  9.9000\n",
       "3    Arkansas 4.0000 5.0000 6.0000 7.2000  7.6000  8.3000  8.2000  7.8000\n",
       "4  California 5.5000 6.2000 7.5000 8.9000 10.4000 11.7000 12.2000 11.2000"
      ]
     },
     "execution_count": 12,
     "metadata": {},
     "output_type": "execute_result"
    }
   ],
   "source": [
    "avg_unemployment_rate = pd.read_excel (r'unemployment rate average by states.xlsx')\n",
    "avg_unemployment_rate.head()"
   ]
  },
  {
   "cell_type": "code",
   "execution_count": 129,
   "metadata": {},
   "outputs": [
    {
     "data": {
      "text/plain": [
       "State\n",
       "Alabama      0.0087\n",
       "Alaska       0.0101\n",
       "Arizona      0.0079\n",
       "Arkansas     0.0066\n",
       "California   0.0073\n",
       "dtype: float64"
      ]
     },
     "execution_count": 129,
     "metadata": {},
     "output_type": "execute_result"
    }
   ],
   "source": [
    "pd.options.display.float_format = '{:,.4f}'.format\n",
    "\n",
    "\n",
    "\n",
    "avg_unemployment_rate_2009_2012= avg_unemployment_rate.drop([2013,2014,2015,2016], axis =1) \n",
    "avg_unemployment_rate_2009_2012= avg_unemployment_rate_2009_2012.set_index(\"State\")\n",
    "avg_unemployment_rate_2009_2012\n",
    "\n",
    "avg_unemployment_rate_2009_2011=avg_unemployment_rate_2009_2012.drop([2012], axis =1) \n",
    "avg_unemployment_rate_2009_2011\n",
    "\n",
    "avg_unemployment_rate_2009_2011['09_11_average'] = avg_unemployment_rate_2009_2011.mean(axis=1)\n",
    "avg_unemployment_rate_2009_2011\n",
    "\n",
    "avg_unemployment_rate_2012_vs_3yr_average = avg_unemployment_rate_2009_2012[2012]/avg_unemployment_rate_2009_2011['09_11_average']/100\n",
    "avg_unemployment_rate_2012_vs_3yr_average \n",
    "\n",
    "\n",
    "avg_unemployment_rate_2013_2016= avg_unemployment_rate.drop([2009,2010,2011,2012], axis =1) \n",
    "avg_unemployment_rate_2013_2016= avg_unemployment_rate_2013_2016.set_index(\"State\")\n",
    "avg_unemployment_rate_2013_2016\n",
    "\n",
    "avg_unemployment_rate_2013_2015=avg_unemployment_rate_2013_2016.drop([2016], axis =1) \n",
    "avg_unemployment_rate_2013_2015\n",
    "\n",
    "avg_unemployment_rate_2013_2015['13_15_average'] = avg_unemployment_rate_2013_2015.mean(axis=1)\n",
    "avg_unemployment_rate_2013_2015\n",
    "\n",
    "avg_unemployment_rate_2016_vs_3yr_average = avg_unemployment_rate_2013_2016[2016]/avg_unemployment_rate_2013_2015['13_15_average']/100\n",
    "avg_unemployment_rate_2016_vs_3yr_average.head()"
   ]
  },
  {
   "cell_type": "code",
   "execution_count": 112,
   "metadata": {},
   "outputs": [
    {
     "data": {
      "image/png": "[encoded data removed]",
      "text/plain": [
       "<Figure size 432x288 with 1 Axes>"
      ]
     },
     "metadata": {},
     "output_type": "display_data"
    }
   ],
   "source": [
    "# Scatterplot Obama vs Clinton\n",
    "\n",
    "x = results_2012['Obama']\n",
    "y = results_2016['Clinton']\n",
    "colors = (0,0,0)\n",
    "\n",
    "# Plot\n",
    "plt.scatter(x, y, c=\"b\", alpha=0.5)\n",
    "plt.title('Scatter plot Obama vs. Clinton')\n",
    "plt.xlabel('Obama Votes %')\n",
    "plt.ylabel('Clinton Votes %')\n",
    "\n",
    "\n",
    "correlation = \"{:.2f}\".format(np.corrcoef(x, y)[0, 1])\n",
    "correlation\n",
    "\n",
    "plt.axvline(x=50)\n",
    "plt.axhline(y=50)\n",
    "\n",
    "\n",
    "plt.annotate(f\"Corr:{correlation}\", (60,25), size=10)\n",
    "plt.show()"
   ]
  },
  {
   "cell_type": "code",
   "execution_count": 74,
   "metadata": {},
   "outputs": [
    {
     "data": {
      "image/png": "[encoded data removed]",
      "text/plain": [
       "<Figure size 432x288 with 1 Axes>"
      ]
     },
     "metadata": {},
     "output_type": "display_data"
    }
   ],
   "source": [
    "x = home_prices_change_2012_vs_3yr_average\n",
    "y = home_prices_change_2016_vs_3yr_average\n",
    "colors = (0,0,0)\n",
    "\n",
    "# Plot\n",
    "plt.scatter(x, y, c=\"b\", alpha=0.5)\n",
    "plt.title('Scatter plot Obama vs. Clinton')\n",
    "plt.xlabel('Obama HomePriceChanges %')\n",
    "plt.ylabel('Clinton HomePriceChanges %')\n",
    "\n",
    "plt.xlim(0.0075, .012)\n",
    "plt.ylim(0.0075,.012)\n",
    "\n",
    "plt.show()\n"
   ]
  },
  {
   "cell_type": "code",
   "execution_count": 125,
   "metadata": {},
   "outputs": [
    {
     "data": {
      "image/png": "[encoded data removed]",
      "text/plain": [
       "<Figure size 432x288 with 1 Axes>"
      ]
     },
     "metadata": {},
     "output_type": "display_data"
    }
   ],
   "source": [
    "x = results_2012['Obama']\n",
    "y = home_prices_change_2012_vs_3yr_average\n",
    "\n",
    "\n",
    "# Plot\n",
    "plt.scatter(x, y, c=\"b\", alpha=0.5)\n",
    "plt.title('Scatter plot Obama vs. 2012 HomePriceChanges')\n",
    "plt.xlabel('Obama Votes %')\n",
    "plt.ylabel('2012 HomePriceChanges')\n",
    "\n",
    "plt.xlim(20, 80)\n",
    "plt.ylim(0.0075,.012)\n",
    "#plt.grid(which='major', linestyle='-', linewidth='0.5', color='black')\n",
    "\n",
    "correlation = \"{:.2f}\".format(np.corrcoef(x, y)[0, 1])\n",
    "correlation\n",
    "plt.axhline(y=y.mean())\n",
    "plt.axvline(x=50)\n",
    "\n",
    "plt.annotate(f\"Corr:{correlation}\", (50,.008), size=12)\n",
    "\n",
    "plt.show()\n",
    "\n"
   ]
  },
  {
   "cell_type": "code",
   "execution_count": 116,
   "metadata": {},
   "outputs": [
    {
     "data": {
      "image/png": "[encoded data removed]",
      "text/plain": [
       "<Figure size 432x288 with 1 Axes>"
      ]
     },
     "metadata": {},
     "output_type": "display_data"
    }
   ],
   "source": [
    "x = results_2016['Clinton']\n",
    "y = home_prices_change_2016_vs_3yr_average\n",
    "\n",
    "\n",
    "# Plot\n",
    "plt.scatter(x, y, c=\"r\", alpha=0.5)\n",
    "plt.title('Scatter plot Clinton vs. 2016 HomePriceChanges')\n",
    "plt.xlabel('Clinton Votes %')\n",
    "plt.ylabel('2016 HomePriceChanges')\n",
    "\n",
    "plt.xlim(20, 80)\n",
    "plt.ylim(0.0085,.012)\n",
    "#plt.grid(which='major', linestyle='-', linewidth='0.5', color='black')\n",
    "correlation = \"{:.2f}\".format(np.corrcoef(x, y)[0, 1])\n",
    "correlation\n",
    "plt.axhline(y=y.mean())\n",
    "plt.axvline(x=50)\n",
    "\n",
    "plt.annotate(f\"Corr:{correlation}\", (50,.009), size=12)\n",
    "\n",
    "plt.show()\n"
   ]
  },
  {
   "cell_type": "code",
   "execution_count": 124,
   "metadata": {},
   "outputs": [
    {
     "data": {
      "image/png": "[encoded data removed]",
      "text/plain": [
       "<Figure size 432x288 with 1 Axes>"
      ]
     },
     "metadata": {},
     "output_type": "display_data"
    }
   ],
   "source": [
    "x = results_2012['Obama']\n",
    "y = avg_unemployment_rate_2012_vs_3yr_average\n",
    "\n",
    "# Plot\n",
    "\n",
    "plt.scatter(x, y, c=\"b\", alpha=0.5)\n",
    "plt.title('Scatter plot Obama vs. 2012 UnemploymentChanges')\n",
    "plt.xlabel('Obama Votes %')\n",
    "plt.ylabel('2012 UnemploymentChanges')\n",
    "\n",
    "plt.xlim(20, 80)\n",
    "plt.ylim(0.007,.0105)\n",
    "correlation = \"{:.2f}\".format(np.corrcoef(x, y)[0, 1])\n",
    "correlation\n",
    "plt.axhline(y=y.mean())\n",
    "plt.axvline(x=50)\n",
    "\n",
    "plt.annotate(f\"Corr:{correlation}\", (55,.0072), size=12)\n",
    "\n",
    "plt.show()"
   ]
  },
  {
   "cell_type": "code",
   "execution_count": 118,
   "metadata": {},
   "outputs": [
    {
     "data": {
      "image/png": "[encoded data removed]",
      "text/plain": [
       "<Figure size 432x288 with 1 Axes>"
      ]
     },
     "metadata": {},
     "output_type": "display_data"
    }
   ],
   "source": [
    "x = results_2016['Clinton']\n",
    "y = avg_unemployment_rate_2016_vs_3yr_average\n",
    "\n",
    "# Plot\n",
    "\n",
    "plt.scatter(x, y, c=\"r\", alpha=0.5)\n",
    "plt.title('Scatter plot Clinton vs. 2016 UnemploymentChanges')\n",
    "plt.xlabel('Clinton Votes %')\n",
    "plt.ylabel('2016 UnemploymentChanges')\n",
    "\n",
    "plt.xlim(20, 80)\n",
    "plt.ylim(0.005,.0105)\n",
    "correlation = \"{:.2f}\".format(np.corrcoef(x, y)[0, 1])\n",
    "correlation\n",
    "plt.axhline(y=y.mean())\n",
    "plt.axvline(x=50)\n",
    "\n",
    "\n",
    "plt.annotate(f\"Corr:{correlation}\", (55,.0052), size=10)\n",
    "\n",
    "plt.show()"
   ]
  },
  {
   "cell_type": "code",
   "execution_count": 123,
   "metadata": {},
   "outputs": [
    {
     "data": {
      "image/png": "[encoded data removed]",
      "text/plain": [
       "<Figure size 432x288 with 1 Axes>"
      ]
     },
     "metadata": {},
     "output_type": "display_data"
    }
   ],
   "source": [
    "x = results_2012['Obama']\n",
    "y = total_nonfarm_by_state_2012_vs_3yr_average\n",
    "\n",
    "# Plot\n",
    "plt.scatter(x, y, c=\"b\", alpha=0.5)\n",
    "plt.title('Scatter plot Obama vs. 2012 PayrollChanges')\n",
    "plt.xlabel('Obama Votes %')\n",
    "plt.ylabel('2012 PayrollChanges')\n",
    "\n",
    "plt.xlim(20, 80)\n",
    "plt.ylim(0.0098,.0106)\n",
    "correlation = \"{:.2f}\".format(np.corrcoef(x, y)[0, 1])\n",
    "correlation\n",
    "\n",
    "plt.axhline(y=y.mean())\n",
    "plt.axvline(x=50)\n",
    "\n",
    "\n",
    "plt.annotate(f\"Corr:{correlation}\", (50,.0099), size=12)\n",
    "\n",
    "plt.show()"
   ]
  },
  {
   "cell_type": "code",
   "execution_count": 122,
   "metadata": {},
   "outputs": [
    {
     "data": {
      "image/png": "[encoded data removed]",
      "text/plain": [
       "<Figure size 432x288 with 1 Axes>"
      ]
     },
     "metadata": {},
     "output_type": "display_data"
    }
   ],
   "source": [
    "x = results_2016['Clinton']\n",
    "y = total_nonfarm_by_state_2016_vs_3yr_average\n",
    "\n",
    "# Plot\n",
    "plt.scatter(x, y, c=\"r\", alpha=0.5)\n",
    "plt.title('Scatter plot Clinton vs. 2016 PayrollChanges')\n",
    "plt.xlabel('Clinton Votes %')\n",
    "plt.ylabel('2016 PayrollChanges')\n",
    "\n",
    "plt.xlim(20, 80)\n",
    "plt.ylim(0.0098,.0108)\n",
    "correlation = \"{:.2f}\".format(np.corrcoef(x, y)[0, 1])\n",
    "correlation\n",
    "\n",
    "plt.axhline(y=y.mean())\n",
    "plt.axvline(x=50)\n",
    "\n",
    "\n",
    "\n",
    "plt.annotate(f\"Corr:{correlation}\", (50,.0099), size=12)\n",
    "\n",
    "plt.show()"
   ]
  },
  {
   "cell_type": "code",
   "execution_count": null,
   "metadata": {},
   "outputs": [],
   "source": []
  }
 ],
 "metadata": {
  "kernelspec": {
   "display_name": "Python 3",
   "language": "python",
   "name": "python3"
  },
  "language_info": {
   "codemirror_mode": {
    "name": "ipython",
    "version": 3
   },
   "file_extension": ".py",
   "mimetype": "text/x-python",
   "name": "python",
   "nbconvert_exporter": "python",
   "pygments_lexer": "ipython3",
   "version": "3.6.5"
  }
 },
 "nbformat": 4,
 "nbformat_minor": 2
}
